{
 "cells": [
  {
   "cell_type": "markdown",
   "id": "94c61da7",
   "metadata": {},
   "source": [
    "# Módulo 2\n",
    "## 2.1 Variáveis\n",
    "### Q1."
   ]
  },
  {
   "cell_type": "code",
   "execution_count": null,
   "id": "6f0ab1bc",
   "metadata": {},
   "outputs": [],
   "source": [
    "print(\"a c e f\")"
   ]
  },
  {
   "cell_type": "markdown",
   "id": "98517f03",
   "metadata": {},
   "source": [
    "### Q2 — Script 1"
   ]
  },
  {
   "cell_type": "code",
   "execution_count": null,
   "id": "b0e1809b",
   "metadata": {},
   "outputs": [],
   "source": [
    "print(\"7\")"
   ]
  },
  {
   "cell_type": "markdown",
   "id": "07ecde1d",
   "metadata": {},
   "source": [
    "### Script 2"
   ]
  },
  {
   "cell_type": "code",
   "execution_count": null,
   "id": "1aa22326",
   "metadata": {},
   "outputs": [],
   "source": [
    "print(\"Erro na linha 1: variáveis n1 e n2 não foram definidas.\")"
   ]
  },
  {
   "cell_type": "markdown",
   "id": "2537e084",
   "metadata": {},
   "source": [
    "### Script 3"
   ]
  },
  {
   "cell_type": "code",
   "execution_count": null,
   "id": "e19290dc",
   "metadata": {},
   "outputs": [],
   "source": [
    "print(\"11\")"
   ]
  },
  {
   "cell_type": "markdown",
   "id": "acc350cc",
   "metadata": {},
   "source": [
    "### Script 4"
   ]
  },
  {
   "cell_type": "code",
   "execution_count": null,
   "id": "db826f84",
   "metadata": {},
   "outputs": [],
   "source": [
    "print(\"Erro na linha 1: nome de variável inválido (espaço não permitido).\\nErro na linha 2: não pode atribuir valor a um número.\\nErro na linha 3: mesmo erro de nome inválido.\")"
   ]
  },
  {
   "cell_type": "markdown",
   "id": "d4b5a046",
   "metadata": {},
   "source": [
    "### Q3 — Média de três números"
   ]
  },
  {
   "cell_type": "code",
   "execution_count": null,
   "id": "45df8eb8",
   "metadata": {},
   "outputs": [],
   "source": [
    "num1 = 8\n",
    "num2 = 7\n",
    "num3 = 9\n",
    "media = (num1 + num2 + num3) / 3\n",
    "print(media)"
   ]
  },
  {
   "cell_type": "markdown",
   "id": "fde738fa",
   "metadata": {},
   "source": [
    "### Q4 — Converter km/h para m/s"
   ]
  },
  {
   "cell_type": "code",
   "execution_count": null,
   "id": "9ebb74c7",
   "metadata": {},
   "outputs": [],
   "source": [
    "velocidade_kmh = 90\n",
    "velocidade_ms = velocidade_kmh / 3.6\n",
    "print(velocidade_ms)"
   ]
  },
  {
   "cell_type": "markdown",
   "id": "951e1b30",
   "metadata": {},
   "source": [
    "### Q5 — Mostrar nome"
   ]
  },
  {
   "cell_type": "code",
   "execution_count": null,
   "id": "91e416ed",
   "metadata": {},
   "outputs": [],
   "source": [
    "nome = \"Yasmin\"\n",
    "print(\"Meu nome é:\")\n",
    "print(nome)"
   ]
  }
 ],
 "metadata": {},
 "nbformat": 4,
 "nbformat_minor": 5
}
