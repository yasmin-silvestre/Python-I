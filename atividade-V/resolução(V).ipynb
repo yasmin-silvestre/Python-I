{
 "cells": [
  {
   "cell_type": "markdown",
   "id": "41cd2c5f",
   "metadata": {},
   "source": [
    "### Q1 – Cálculo de salário semanal com descontos"
   ]
  },
  {
   "cell_type": "code",
   "execution_count": null,
   "id": "d967b5a0",
   "metadata": {},
   "outputs": [],
   "source": [
    "salario_hora = 20\n",
    "horas_semana = 40\n",
    "\n",
    "bruto = salario_hora * horas_semana\n",
    "desconto_inss = bruto * 0.10\n",
    "desconto_sindicato = bruto * 0.05\n",
    "liquido = bruto - desconto_inss - desconto_sindicato\n",
    "\n",
    "print(\"Salário Bruto:\", bruto)\n",
    "print(\"Desconto INSS:\", desconto_inss)\n",
    "print(\"Desconto Sindicato:\", desconto_sindicato)\n",
    "print(\"Salário Líquido:\", liquido)"
   ]
  },
  {
   "cell_type": "markdown",
   "id": "9e5d836d",
   "metadata": {},
   "source": [
    "### Q2 – Cálculo com apenas duas instruções"
   ]
  },
  {
   "cell_type": "code",
   "execution_count": null,
   "id": "9708a483",
   "metadata": {},
   "outputs": [],
   "source": [
    "salario_hora = 20\n",
    "horas_semana = 40\n",
    "\n",
    "bruto = salario_hora * horas_semana\n",
    "liquido = bruto - (bruto * 0.10 + bruto * 0.05)\n",
    "\n",
    "print(\"Salário Bruto:\", bruto)\n",
    "print(\"Salário Líquido:\", liquido)"
   ]
  },
  {
   "cell_type": "markdown",
   "id": "5ab4722e",
   "metadata": {},
   "source": [
    "### Q3 – Conversão de BRL para CNY"
   ]
  },
  {
   "cell_type": "code",
   "execution_count": null,
   "id": "ccc05c88",
   "metadata": {},
   "outputs": [],
   "source": [
    "reais = 100  # exemplo: 100 reais\n",
    "taxa_cambio = 1 / 0.69  # 1 CNY = 0.69 BRL → inverso para converter\n",
    "\n",
    "yuan = reais * taxa_cambio\n",
    "print(f\"{reais} reais equivalem a {yuan:.2f} yuans.\")"
   ]
  },
  {
   "cell_type": "markdown",
   "id": "1e6ae71d",
   "metadata": {},
   "source": [
    "### Q4 – Velocidade média em m/s na Maratona"
   ]
  },
  {
   "cell_type": "code",
   "execution_count": null,
   "id": "3655813c",
   "metadata": {},
   "outputs": [],
   "source": [
    "distancia_km = 42.195\n",
    "tempo_horas = 3\n",
    "\n",
    "distancia_metros = distancia_km * 1000\n",
    "tempo_segundos = tempo_horas * 3600\n",
    "\n",
    "velocidade_media = distancia_metros / tempo_segundos\n",
    "print(f\"Velocidade média: {velocidade_media:.2f} m/s\")"
   ]
  }
 ],
 "metadata": {},
 "nbformat": 4,
 "nbformat_minor": 5
}