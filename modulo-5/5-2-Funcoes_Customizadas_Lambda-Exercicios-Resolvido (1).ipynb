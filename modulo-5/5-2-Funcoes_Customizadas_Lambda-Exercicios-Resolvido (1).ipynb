{
 "cells": [
  {
   "cell_type": "markdown",
   "metadata": {},
   "source": [
    "# Módulo 5 - Funções\n",
    "\n",
    "## Aulas 5.2 - Funções Customizadas Lambda - Exercícios"
   ]
  },
  {
   "cell_type": "markdown",
   "metadata": {},
   "source": [
    "### Q1.\n",
    "\n",
    "- Sabendo que o código a seguir calcula o fatorial de n, escreva uma função chamada ```fatorial()``` que recebe um inteiro ```n``` como parâmetro e retorna o resultado do fatorial de ```n```. \n",
    "- No programa principal, peça ao usuário o valor de ```n```, chame a sua função e imprima o retorno.\n",
    "\n",
    "```python\n",
    "fat = 1\n",
    "for i in range(1, n+1):\n",
    "    fat *= i \n",
    "```"
   ]
  },
  {
   "cell_type": "code",
   "execution_count": null,
   "metadata": {},
   "outputs": [],
   "source": [
    "def fatorial(n: int) -> int:\n",
    "    \"\"\"Calcula n! (fatorial de n) de forma iterativa.\"\"\"\n",
    "    if not isinstance(n, int):\n",
    "        raise TypeError(\"n deve ser inteiro\")\n",
    "    if n < 0:\n",
    "        raise ValueError(\"n deve ser >= 0\")\n",
    "    fat = 1\n",
    "    for i in range(1, n + 1):\n",
    "        fat *= i\n",
    "    return fat"
   ]
  },
  {
   "cell_type": "code",
   "execution_count": null,
   "metadata": {},
   "outputs": [],
   "source": [
    "# Programa principal - Q1\n",
    "if __name__ == \"__main__\":\n",
    "    try:\n",
    "        n = int(input(\"Q1) Digite um inteiro n (>=0) para calcular n!: \"))\n",
    "        print(f\"Fatorial de {n} = {fatorial(n)}\")\n",
    "    except Exception as e:\n",
    "        print(\"Erro:\", e)"
   ]
  },
  {
   "cell_type": "markdown",
   "metadata": {},
   "source": [
    "### Q2.\n",
    "\n",
    "- Escreva uma função em Python chamada ```soma_quadrados``` que recebe dois números como parâmetros e retorna a soma dos seus quadrados. \n",
    "- No programa principal solicite ao usuário que insira dois números e utilize a função para exibir a soma dos quadrados."
   ]
  },
  {
   "cell_type": "code",
   "execution_count": null,
   "metadata": {},
   "outputs": [],
   "source": [
    "def soma_quadrados(a: float, b: float) -> float:\n",
    "    \"\"\"Retorna a soma dos quadrados de a e b.\"\"\"\n",
    "    return a**2 + b**2"
   ]
  },
  {
   "cell_type": "code",
   "execution_count": null,
   "metadata": {},
   "outputs": [],
   "source": [
    "# Programa principal - Q2\n",
    "if __name__ == \"__main__\":\n",
    "    try:\n",
    "        x = float(input(\"Q2) Digite o primeiro número: \"))\n",
    "        y = float(input(\"Q2) Digite o segundo número: \"))\n",
    "        print(f\"Soma dos quadrados = {soma_quadrados(x, y)}\")\n",
    "    except Exception as e:\n",
    "        print(\"Erro:\", e)"
   ]
  },
  {
   "cell_type": "markdown",
   "metadata": {},
   "source": [
    "### Q3.\n",
    "\n",
    "- Crie uma função em Python chamada ```soma_digitos``` que recebe um número inteiro como parâmetro e retorna a soma dos seus dígitos. Por exemplo, para o número 123, a função deve retornar 6.\n",
    "- No programa principal solicite ao usuário que insira um número e utilize a função para calcular e exibir a soma dos seus dígitos."
   ]
  },
  {
   "cell_type": "code",
   "execution_count": null,
   "metadata": {},
   "outputs": [],
   "source": [
    "def soma_digitos(n: int) -> int:\n",
    "    \"\"\"Retorna a soma dos dígitos de n usando apenas operações aritméticas.\"\"\"\n",
    "    n = abs(n)\n",
    "    soma = 0\n",
    "    while n > 0:\n",
    "        soma += n % 10\n",
    "        n //= 10\n",
    "    return soma"
   ]
  },
  {
   "cell_type": "code",
   "execution_count": null,
   "metadata": {},
   "outputs": [],
   "source": [
    "# Programa principal - Q3\n",
    "if __name__ == \"__main__\":\n",
    "    try:\n",
    "        n = int(input(\"Q3) Digite um inteiro para somar os dígitos: \"))\n",
    "        print(f\"Soma dos dígitos = {soma_digitos(n)}\")\n",
    "    except Exception as e:\n",
    "        print(\"Erro:\", e)"
   ]
  },
  {
   "cell_type": "markdown",
   "metadata": {},
   "source": [
    "### Q4.\n",
    "\n",
    "- Crie a função ```inverteValor()``` que recebe um inteiro de qualquer tamanho e retorna esse valor invertido usando apenas operações aritméticas.\n",
    "- Crie a função ```verificaInverso()``` que recebe o valor original e o valor invertido e retorna verdadeiro se ambos forem igualmente par ou igualmente ímpar. Retorne falso caso contrário.\n",
    "- No programa principal, peça um valor do usuário e imprima o retorno de ambas as funções."
   ]
  },
  {
   "cell_type": "code",
   "execution_count": null,
   "metadata": {},
   "outputs": [],
   "source": [
    "def inverteValor(n: int) -> int:\n",
    "    \"\"\"Retorna o número n com seus dígitos invertidos.\"\"\"\n",
    "    sinal = -1 if n < 0 else 1\n",
    "    n = abs(n)\n",
    "    inv = 0\n",
    "    while n > 0:\n",
    "        inv = inv * 10 + (n % 10)\n",
    "        n //= 10\n",
    "    return sinal * inv\n",
    "\n",
    "def verificaInverso(original: int, invertido: int) -> bool:\n",
    "    \"\"\"Retorna True se ambos forem pares ou ambos forem ímpares.\"\"\"\n",
    "    return (original % 2) == (invertido % 2)"
   ]
  },
  {
   "cell_type": "code",
   "execution_count": null,
   "metadata": {},
   "outputs": [],
   "source": [
    "# Programa principal - Q4\n",
    "if __name__ == \"__main__\":\n",
    "    try:\n",
    "        n = int(input(\"Q4) Digite um inteiro para inverter e verificar paridade: \"))\n",
    "        inv = inverteValor(n)\n",
    "        print(f\"Invertido: {inv}\")\n",
    "        print(\"Paridade igual?\", verificaInverso(n, inv))\n",
    "    except Exception as e:\n",
    "        print(\"Erro:\", e)"
   ]
  },
  {
   "cell_type": "markdown",
   "metadata": {},
   "source": [
    "### Q5.\n",
    "\n",
    "- Crie uma função ```lambda``` que receba um número e retorne \"Par\" se for par e \"Ímpar\" caso contrário."
   ]
  },
  {
   "cell_type": "code",
   "execution_count": null,
   "metadata": {},
   "outputs": [],
   "source": [
    "par_ou_impar = lambda x: \"Par\" if x % 2 == 0 else \"Ímpar\"\n",
    "\n",
    "# Programa principal - Q5\n",
    "if __name__ == \"__main__\":\n",
    "    n = int(input(\"Q5) Digite um número: \"))\n",
    "    print(f\"O número {n} é {par_ou_impar(n)}\")"
   ]
  },
  {
   "cell_type": "markdown",
   "metadata": {},
   "source": [
    "### Q6.\n",
    "\n",
    "- Dada uma lista de tuplas, use ```sorted``` e uma função ```lambda``` para ordená-las pelo segundo elemento."
   ]
  },
  {
   "cell_type": "code",
   "execution_count": null,
   "metadata": {},
   "outputs": [],
   "source": [
    "lista = [(1, 5), (2, 2), (3, 8), (4, 1)]\n",
    "ordenada = sorted(lista, key=lambda x: x[1])\n",
    "print(\"Lista original:\", lista)\n",
    "print(\"Lista ordenada pelo segundo elemento:\", ordenada)"
   ]
  },
  {
   "cell_type": "markdown",
   "metadata": {},
   "source": [
    "### Q7.\n",
    "\n",
    "- Use ```filter``` e uma função ```lambda``` para filtrar apenas os números pares de uma lista."
   ]
  },
  {
   "cell_type": "code",
   "execution_count": null,
   "metadata": {},
   "outputs": [],
   "source": [
    "numeros = list(range(1, 21))\n",
    "pares = list(filter(lambda x: x % 2 == 0, numeros))\n",
    "print(\"Lista original:\", numeros)\n",
    "print(\"Números pares:\", pares)"
   ]
  }
 ],
 "metadata": {
  "kernelspec": {
   "display_name": "Python 3",
   "language": "python",
   "name": "python3"
  },
  "language_info": {
   "name": "python",
   "version": "3.10"
  }
 },
 "nbformat": 4,
 "nbformat_minor": 2
}

