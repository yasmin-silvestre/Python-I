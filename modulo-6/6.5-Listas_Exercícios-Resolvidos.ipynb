{
 "cells": [
  {
   "cell_type": "markdown",
   "id": "0d5035b5",
   "metadata": {},
   "source": [
    "# Listas\n",
    "\n",
    "## Aulas 6.1 a 6.5 "
   ]
  },
  {
   "cell_type": "markdown",
   "id": "0bdece85",
   "metadata": {},
   "source": [
    "### Q1. \n",
    "\n",
    "Usando a função embutida ```map``` e criando uma função ```lambda```, transforme uma lista com os raios de múltiplas circunferências em uma nova lista com as respectivas áreas. O cálculo de cada área é dado por: ```pi*(raio**2)```\n",
    "- Use a constante pi da biblioteca math \n",
    "- Arredonde o resultado para 2 casas decimais\n"
   ]
  },
  {
   "cell_type": "code",
   "execution_count": null,
   "id": "0a258eba",
   "metadata": {},
   "outputs": [],
   "source": [
    "import math\n",
    "raios = [1.5, 0.8, 2.3, 5.0]\n",
    "areas = list(map(lambda r: round(math.pi * (r**2), 2), raios))\n",
    "print(areas)"
   ]
  },
  {
   "cell_type": "markdown",
   "id": "649a5082",
   "metadata": {},
   "source": [
    "### Q2. \n",
    "\n",
    "Crie uma função customizada e aplique a função embutida ```filter``` para operar em uma lista de listas contendo os lados de múltiplos triângulos. Construa uma nova lista contendo apenas os triângulos equiláteros, ou seja, com os três lados iguais.\n"
   ]
  },
  {
   "cell_type": "code",
   "execution_count": null,
   "id": "47cb0573",
   "metadata": {},
   "outputs": [],
   "source": [
    "def testa_equilatero(lados):\n",
    "    return lados[0] == lados[1] == lados[2]\n",
    "\n",
    "triangulos  = [[2,2,2], [3,4,5], [3,2,2],[4,4,4]]\n",
    "equilateros = list(filter(testa_equilatero, triangulos))\n",
    "print(equilateros)"
   ]
  },
  {
   "cell_type": "markdown",
   "id": "bb62d219",
   "metadata": {},
   "source": [
    "### Q3. \n",
    "Crie uma função chamada ```ordena_por_comprimento``` que aceite uma lista de strings e a ordene com base no comprimento das strings, do menor para o maior. Utilize a função ```sort``` e uma expressão ```lambda```."
   ]
  },
  {
   "cell_type": "code",
   "execution_count": null,
   "id": "add41556",
   "metadata": {},
   "outputs": [],
   "source": [
    "def ordena_por_comprimento(lista):\n",
    "    return sorted(lista, key=lambda x: len(x))\n",
    "\n",
    "nomes = [\"Joao\", \"Maria\", \"Jose\", \"Gabriela\", \"Sol\", \"Luna\", \"Bento\", \"Enzo\", \"Fernanda\"]\n",
    "print(ordena_por_comprimento(nomes))"
   ]
  },
  {
   "cell_type": "markdown",
   "id": "8710b1a7",
   "metadata": {},
   "source": [
    "### Q4.\n",
    "\n",
    "Crie uma lista de listas (uma matriz de 2 dimensões) de tamanho $n \\times n$, com $n$ dado pelo usuário. Cada elemento da matriz deve ser o produto dos índices da linha pela coluna.\n"
   ]
  },
  {
   "cell_type": "code",
   "execution_count": null,
   "id": "0b7ee921",
   "metadata": {},
   "outputs": [],
   "source": [
    "n = int(input(\"Digite n: \"))\n",
    "matriz = [[i*j for j in range(n)] for i in range(n)]\n",
    "print(matriz)"
   ]
  },
  {
   "cell_type": "markdown",
   "id": "f41781df",
   "metadata": {},
   "source": [
    "### Q5.\n",
    "\n",
    "Dada uma lista de números inteiros, implemente uma função em Python chamada ```pares_unicos``` que encontre e retorne todos os pares únicos de elementos na lista cuja soma seja igual a um determinado valor.\n"
   ]
  },
  {
   "cell_type": "code",
   "execution_count": null,
   "id": "7a76f765",
   "metadata": {},
   "outputs": [],
   "source": [
    "def pares_unicos(numeros, soma_objetivo):\n",
    "    pares = []\n",
    "    for i in range(len(numeros)):\n",
    "        for j in range(i+1, len(numeros)):\n",
    "            if numeros[i] + numeros[j] == soma_objetivo:\n",
    "                pares.append((numeros[i], numeros[j]))\n",
    "    return pares\n",
    "\n",
    "nums = [3, 4, 5, 6, 7]\n",
    "soma = 10\n",
    "print(pares_unicos(nums, soma))"
   ]
  },
  {
   "cell_type": "markdown",
   "id": "87e44893",
   "metadata": {},
   "source": [
    "### Q6.\n",
    "\n",
    "Escreva um programa para encontrar a diferença entre duas listas, incluindo elementos duplicados."
   ]
  },
  {
   "cell_type": "code",
   "execution_count": null,
   "id": "7edc027c",
   "metadata": {},
   "outputs": [],
   "source": [
    "lista1 = [1, 1, 2, 3, 3, 4, 4, 5, 6, 7]\n",
    "lista2 = [1, 1, 2, 4, 5, 6]\n",
    "resultado = lista1.copy()\n",
    "for elem in lista2:\n",
    "    if elem in resultado:\n",
    "        resultado.remove(elem)\n",
    "print(resultado)"
   ]
  },
  {
   "cell_type": "markdown",
   "id": "f4c4236d",
   "metadata": {},
   "source": [
    "### Q7.\n",
    "\n",
    "Você está desenvolvendo um programa para determinar o vencedor de um jogo da velha."
   ]
  },
  {
   "cell_type": "code",
   "execution_count": null,
   "id": "720ca24d",
   "metadata": {},
   "outputs": [],
   "source": [
    "def avalia_tabuleiro(tab):\n",
    "    # checar linhas\n",
    "    for linha in tab:\n",
    "        if linha[0] == linha[1] == linha[2] and linha[0] != ' ':\n",
    "            return linha[0]\n",
    "    # checar colunas\n",
    "    for j in range(3):\n",
    "        if tab[0][j] == tab[1][j] == tab[2][j] and tab[0][j] != ' ':\n",
    "            return tab[0][j]\n",
    "    # checar diagonais\n",
    "    if tab[0][0] == tab[1][1] == tab[2][2] and tab[0][0] != ' ':\n",
    "        return tab[0][0]\n",
    "    if tab[0][2] == tab[1][1] == tab[2][0] and tab[0][2] != ' ':\n",
    "        return tab[0][2]\n",
    "    return \"Empate\"\n",
    "\n",
    "tabuleiro1 = [['X','O','X'],[' ','X','O'],['O',' ','X']]\n",
    "tabuleiro2 = [['X','O','O'],['X','X','O'],['X','O','X']]\n",
    "tabuleiro3 = [[' ',' ',' '],['X',' ','O'],['O','X','X']]\n",
    "tabuleiro4 = [['O','O','O'],['X',' ','X'],['O','X','X']]\n",
    "tabuleiro5 = [['X','X','O'],['X',' ','O'],['O','O','X']]\n",
    "\n",
    "print(avalia_tabuleiro(tabuleiro1))\n",
    "print(avalia_tabuleiro(tabuleiro2))\n",
    "print(avalia_tabuleiro(tabuleiro3))\n",
    "print(avalia_tabuleiro(tabuleiro4))\n",
    "print(avalia_tabuleiro(tabuleiro5))"
   ]
  }
 ]
}
